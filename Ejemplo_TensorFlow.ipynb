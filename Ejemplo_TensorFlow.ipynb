{
  "nbformat": 4,
  "nbformat_minor": 0,
  "metadata": {
    "colab": {
      "provenance": [],
      "authorship_tag": "ABX9TyPSHcldT+Xe/PIG8qggQlqI",
      "include_colab_link": true
    },
    "kernelspec": {
      "name": "python3",
      "display_name": "Python 3"
    },
    "language_info": {
      "name": "python"
    }
  },
  "cells": [
    {
      "cell_type": "markdown",
      "metadata": {
        "id": "view-in-github",
        "colab_type": "text"
      },
      "source": [
        "<a href=\"https://colab.research.google.com/github/ultroncity/Pruebas_Publico/blob/main/Ejemplo_TensorFlow.ipynb\" target=\"_parent\"><img src=\"https://colab.research.google.com/assets/colab-badge.svg\" alt=\"Open In Colab\"/></a>"
      ]
    },
    {
      "cell_type": "code",
      "execution_count": null,
      "metadata": {
        "colab": {
          "base_uri": "https://localhost:8080/"
        },
        "id": "l3pKg8aDTkNT",
        "outputId": "7731d336-09ff-4419-88ae-691cc6d7482c"
      },
      "outputs": [
        {
          "output_type": "stream",
          "name": "stdout",
          "text": [
            "Downloading data from https://storage.googleapis.com/tensorflow/tf-keras-datasets/mnist.npz\n",
            "\u001b[1m11490434/11490434\u001b[0m \u001b[32m━━━━━━━━━━━━━━━━━━━━\u001b[0m\u001b[37m\u001b[0m \u001b[1m0s\u001b[0m 0us/step\n"
          ]
        },
        {
          "output_type": "stream",
          "name": "stderr",
          "text": [
            "/usr/local/lib/python3.11/dist-packages/keras/src/layers/reshaping/flatten.py:37: UserWarning: Do not pass an `input_shape`/`input_dim` argument to a layer. When using Sequential models, prefer using an `Input(shape)` object as the first layer in the model instead.\n",
            "  super().__init__(**kwargs)\n"
          ]
        },
        {
          "output_type": "stream",
          "name": "stdout",
          "text": [
            "Epoch 1/5\n",
            "\u001b[1m1875/1875\u001b[0m \u001b[32m━━━━━━━━━━━━━━━━━━━━\u001b[0m\u001b[37m\u001b[0m \u001b[1m12s\u001b[0m 5ms/step - accuracy: 0.8818 - loss: 0.4244\n",
            "Epoch 2/5\n",
            "\u001b[1m1875/1875\u001b[0m \u001b[32m━━━━━━━━━━━━━━━━━━━━\u001b[0m\u001b[37m\u001b[0m \u001b[1m9s\u001b[0m 5ms/step - accuracy: 0.9654 - loss: 0.1199\n",
            "Epoch 3/5\n",
            "\u001b[1m1875/1875\u001b[0m \u001b[32m━━━━━━━━━━━━━━━━━━━━\u001b[0m\u001b[37m\u001b[0m \u001b[1m8s\u001b[0m 4ms/step - accuracy: 0.9777 - loss: 0.0754\n",
            "Epoch 4/5\n",
            "\u001b[1m1875/1875\u001b[0m \u001b[32m━━━━━━━━━━━━━━━━━━━━\u001b[0m\u001b[37m\u001b[0m \u001b[1m12s\u001b[0m 6ms/step - accuracy: 0.9839 - loss: 0.0542\n",
            "Epoch 5/5\n",
            "\u001b[1m1875/1875\u001b[0m \u001b[32m━━━━━━━━━━━━━━━━━━━━\u001b[0m\u001b[37m\u001b[0m \u001b[1m18s\u001b[0m 5ms/step - accuracy: 0.9875 - loss: 0.0433\n",
            "\u001b[1m313/313\u001b[0m \u001b[32m━━━━━━━━━━━━━━━━━━━━\u001b[0m\u001b[37m\u001b[0m \u001b[1m1s\u001b[0m 2ms/step - accuracy: 0.9708 - loss: 0.0913\n",
            "Precisión en el conjunto de prueba: 97.56%\n"
          ]
        }
      ],
      "source": [
        "# Importar TensorFlow y Keras\n",
        "import tensorflow as tf\n",
        "from tensorflow import keras\n",
        "\n",
        "# Cargar el dataset MNIST (imágenes de dígitos escritos a mano)\n",
        "# Se divide en datos de entrenamiento (x_train, y_train) y prueba (x_test, y_test)\n",
        "(x_train, y_train), (x_test, y_test) = keras.datasets.mnist.load_data()\n",
        "\n",
        "# Normalizar los valores de píxeles (de 0-255 a 0-1) para mejorar el rendimiento del modelo\n",
        "x_train, x_test = x_train / 255.0, x_test / 255.0\n",
        "\n",
        "# Definir el modelo de red neuronal secuencial\n",
        "model = keras.Sequential([\n",
        "    # Convertir cada imagen de 28x28 píxeles en un vector de 784 valores (entrada plana)\n",
        "    keras.layers.Flatten(input_shape=(28, 28)),\n",
        "    # Capa oculta con 128 neuronas y activación ReLU (para mejorar el aprendizaje)\n",
        "    keras.layers.Dense(128, activation='relu'),\n",
        "    # Capa de salida con 10 neuronas (una para cada dígito 0-9) y activación softmax\n",
        "    keras.layers.Dense(10, activation='softmax')\n",
        "])\n",
        "\n",
        "# Compilar el modelo especificando:\n",
        "# - Optimizador Adam (ajusta los pesos para mejorar el aprendizaje)\n",
        "# - Función de pérdida sparse_categorical_crossentropy (para clasificación de múltiples clases)\n",
        "# - Métrica de precisión para evaluar el rendimiento\n",
        "model.compile(optimizer='adam',\n",
        "              loss='sparse_categorical_crossentropy',\n",
        "              metrics=['accuracy'])\n",
        "\n",
        "# Entrenar el modelo con los datos de entrenamiento durante 5 épocas\n",
        "model.fit(x_train, y_train, epochs=5)\n",
        "\n",
        "# Evaluar el modelo con los datos de prueba\n",
        "test_loss, test_acc = model.evaluate(x_test, y_test)\n",
        "\n",
        "# Mostrar la precisión obtenida en el conjunto de prueba\n",
        "print(f\"Precisión en el conjunto de prueba: {test_acc * 100:.2f}%\")"
      ]
    }
  ]
}